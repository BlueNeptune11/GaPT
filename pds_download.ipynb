{
 "cells": [
  {
   "cell_type": "code",
   "execution_count": 1,
   "id": "ce98e59b",
   "metadata": {},
   "outputs": [],
   "source": [
    "from datetime import datetime\n",
    "import pds.peppi as pep\n",
    "\n",
    "client = pep.PDSRegistryClient()\n",
    "\n",
    "# Define limits of the mission\n",
    "#start_time = datetime.fromisoformat(\"1995-11-06 16:21:00\")\n",
    "#end_time = datetime.fromisoformat(\"2003-09-21 11:00:00\")\n",
    "\n",
    "# Collection ID\n",
    "collection_lid = \"urn:nasa:pds:galileo-mag-jup-calibrated:data-highres-callisto:orb03_call_cphio::1.1\"\n",
    "products = pep.Products(client).of_collection(collection_lid)"
   ]
  },
  {
   "cell_type": "code",
   "execution_count": 2,
   "id": "959a162b",
   "metadata": {},
   "outputs": [
    {
     "name": "stderr",
     "output_type": "stream",
     "text": [
      "Query with clause  did not return any products.\n"
     ]
    }
   ],
   "source": [
    "products.as_dataframe()"
   ]
  },
  {
   "cell_type": "code",
   "execution_count": null,
   "id": "df526c66",
   "metadata": {},
   "outputs": [],
   "source": []
  }
 ],
 "metadata": {
  "kernelspec": {
   "display_name": "galileo_data_plotting",
   "language": "python",
   "name": "python3"
  },
  "language_info": {
   "codemirror_mode": {
    "name": "ipython",
    "version": 3
   },
   "file_extension": ".py",
   "mimetype": "text/x-python",
   "name": "python",
   "nbconvert_exporter": "python",
   "pygments_lexer": "ipython3",
   "version": "3.12.10"
  }
 },
 "nbformat": 4,
 "nbformat_minor": 5
}
